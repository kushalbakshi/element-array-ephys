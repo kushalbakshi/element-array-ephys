{
 "cells": [
  {
   "cell_type": "markdown",
   "id": "15bdef0d-bd52-49e6-87a0-d569006149a0",
   "metadata": {
    "tags": []
   },
   "source": [
    "# Export workflow to Neurodata Without Borders file and upload to DANDI"
   ]
  },
  {
   "cell_type": "code",
   "execution_count": 10,
   "id": "bdf5453e",
   "metadata": {},
   "outputs": [],
   "source": [
    "import datajoint as dj\n",
    "from tests.tutorial_pipeline import lab, subject, session, probe, ephys\n",
    "from element_animal.export.nwb import subject_to_nwb\n",
    "from element_lab.export.nwb import element_lab_to_nwb_dict\n",
    "from element_session.export.nwb import session_to_nwb\n",
    "from element_array_ephys.export.nwb import ecephys_session_to_nwb\n",
    "from element_interface.dandi import upload_to_dandi"
   ]
  },
  {
   "cell_type": "code",
   "execution_count": 2,
   "id": "a7458904",
   "metadata": {},
   "outputs": [
    {
     "data": {
      "text/plain": [
       "DataJoint connection (connected) root@fakeservices.datajoint.io:3306"
      ]
     },
     "execution_count": 2,
     "metadata": {},
     "output_type": "execute_result"
    }
   ],
   "source": [
    "dj.conn()"
   ]
  },
  {
   "cell_type": "code",
   "execution_count": 24,
   "id": "ff12d9aa",
   "metadata": {},
   "outputs": [],
   "source": [
    "lab_key={\"lab\": \"LabA\"}\n",
    "protocol_key={\"protocol\": \"ProtA\"}\n",
    "project_key={\"project\": \"ProjA\"}\n",
    "session_key = dict(subject=\"subject5\", session_datetime=\"2023-01-01 00:00:00\")\n",
    "\n",
    "lab.Lab.insert1(\n",
    "    {\n",
    "        **lab_key,\n",
    "        \"lab_name\": \"LabA\",\n",
    "        \"address\": \"\",\n",
    "        \"time_zone\": \"UTC+0\",\n",
    "    },\n",
    "    skip_duplicates=True,\n",
    ")\n",
    "lab.Organization.insert1(\n",
    "    {\n",
    "        \"organization\": \"DataJoint\",\n",
    "        \"org_name\": \"DataJoint\",\n",
    "        \"org_address\": \"4265, San Felipe St., Houston, TX\"\n",
    "    }, skip_duplicates=True,\n",
    ")\n",
    "lab.Lab.Organization.insert1(\n",
    "    {\n",
    "        **lab_key,\n",
    "        \"organization\": \"DataJoint\"\n",
    "    }, skip_duplicates=True,\n",
    ")\n",
    "lab.ProtocolType.insert1({\"protocol_type\": \"A\"}, skip_duplicates=True)\n",
    "lab.Protocol.insert1({**protocol_key, \"protocol_type\": \"A\"}, skip_duplicates=True)\n",
    "lab.Project.insert1(project_key, skip_duplicates=True)"
   ]
  },
  {
   "cell_type": "code",
   "execution_count": 27,
   "id": "f22ada03",
   "metadata": {},
   "outputs": [],
   "source": [
    "session.SessionNote.insert1(\n",
    "    {\n",
    "        **session_key,\n",
    "        \"session_note\": \"DataJoint ephys tutorial session.\"\n",
    "    }\n",
    ")"
   ]
  },
  {
   "cell_type": "code",
   "execution_count": null,
   "id": "9fe076bd",
   "metadata": {},
   "outputs": [],
   "source": []
  },
  {
   "cell_type": "code",
   "execution_count": 28,
   "id": "b6c8aa9e",
   "metadata": {},
   "outputs": [
    {
     "name": "stdout",
     "output_type": "stream",
     "text": [
      "Lab:\n",
      "\n",
      "{'institution': 'DataJoint', 'lab': 'LabA', 'experiment_description': '', 'keywords': None, 'related_publications': None, 'protocol': 'ProtA', 'notes': ''}\n",
      "\n",
      "Animal:\n",
      "\n",
      "subject pynwb.file.Subject at 0x140263087158656\n",
      "Fields:\n",
      "  age__reference: birth\n",
      "  date_of_birth: 2023-01-01 00:00:00+00:00\n",
      "  description: {\"subject\": \"subject5\", \"subject_nickname\": \"\", \"sex\": \"U\", \"subject_birth_date\": \"2023-01-01\", \"subject_description\": \"\", \"species\": null, \"line\": null, \"strain\": null, \"source\": null}\n",
      "  sex: U\n",
      "  species: []\n",
      "  subject_id: subject5\n",
      "\n",
      "\n",
      "Session:\n",
      "\n",
      "root pynwb.file.NWBFile at 0x140263088511200\n",
      "Fields:\n",
      "  file_create_date: [datetime.datetime(2024, 4, 19, 15, 5, 15, 957866, tzinfo=tzlocal())]\n",
      "  identifier: 83720c8f-64eb-4d6d-92c3-9d20deca359a\n",
      "  session_description: DataJoint ephys tutorial session.\n",
      "  session_id: subject5_2023-01-01T00:00:00\n",
      "  session_start_time: 2023-01-01 00:00:00+00:00\n",
      "  subject: subject pynwb.file.Subject at 0x140263087158656\n",
      "Fields:\n",
      "  age__reference: birth\n",
      "  subject_id: subject5\n",
      "\n",
      "  timestamps_reference_time: 2023-01-01 00:00:00+00:00\n",
      "\n"
     ]
    },
    {
     "name": "stderr",
     "output_type": "stream",
     "text": [
      "/usr/local/lib/python3.9/site-packages/pynwb/file.py:146: UserWarning: Date is missing timezone information. Updating to local timezone.\n",
      "  args_to_set['date_of_birth'] = _add_missing_timezone(date_of_birth)\n"
     ]
    },
    {
     "ename": "TypeError",
     "evalue": "pynwb.file.NWBFile() argument after ** must be a mapping, not NoneType",
     "output_type": "error",
     "traceback": [
      "\u001b[0;31m---------------------------------------------------------------------------\u001b[0m",
      "\u001b[0;31mTypeError\u001b[0m                                 Traceback (most recent call last)",
      "Cell \u001b[0;32mIn[28], line 9\u001b[0m\n\u001b[1;32m      6\u001b[0m \u001b[39mprint\u001b[39m(\u001b[39m'\u001b[39m\u001b[39m\\n\u001b[39;00m\u001b[39mSession:\u001b[39m\u001b[39m\\n\u001b[39;00m\u001b[39m'\u001b[39m)\n\u001b[1;32m      7\u001b[0m \u001b[39mprint\u001b[39m(session_to_nwb(session_key\u001b[39m=\u001b[39msession_key))\n\u001b[0;32m----> 9\u001b[0m nwbfile \u001b[39m=\u001b[39m ecephys_session_to_nwb(session_key\u001b[39m=\u001b[39;49msession_key,\n\u001b[1;32m     10\u001b[0m                                  raw\u001b[39m=\u001b[39;49m\u001b[39mTrue\u001b[39;49;00m,\n\u001b[1;32m     11\u001b[0m                                  spikes\u001b[39m=\u001b[39;49m\u001b[39mTrue\u001b[39;49;00m,\n\u001b[1;32m     12\u001b[0m                                  lfp\u001b[39m=\u001b[39;49m\u001b[39m\"\u001b[39;49m\u001b[39mdj\u001b[39;49m\u001b[39m\"\u001b[39;49m,\n\u001b[1;32m     13\u001b[0m                                  end_frame\u001b[39m=\u001b[39;49m\u001b[39m100\u001b[39;49m,\n\u001b[1;32m     14\u001b[0m                                  lab_key\u001b[39m=\u001b[39;49mlab_key,\n\u001b[1;32m     15\u001b[0m                                  project_key\u001b[39m=\u001b[39;49mproject_key,\n\u001b[1;32m     16\u001b[0m                                  protocol_key\u001b[39m=\u001b[39;49mprotocol_key,\n\u001b[1;32m     17\u001b[0m                                  nwbfile_kwargs\u001b[39m=\u001b[39;49m\u001b[39mNone\u001b[39;49;00m)\n",
      "File \u001b[0;32m/workspaces/element-array-ephys/element_array_ephys/export/nwb/nwb.py:614\u001b[0m, in \u001b[0;36mecephys_session_to_nwb\u001b[0;34m(session_key, raw, spikes, lfp, end_frame, lab_key, project_key, protocol_key, nwbfile_kwargs)\u001b[0m\n\u001b[1;32m    606\u001b[0m     nwbfile \u001b[39m=\u001b[39m session_to_nwb(\n\u001b[1;32m    607\u001b[0m         session_key,\n\u001b[1;32m    608\u001b[0m         lab_key\u001b[39m=\u001b[39mlab_key,\n\u001b[0;32m   (...)\u001b[0m\n\u001b[1;32m    611\u001b[0m         additional_nwbfile_kwargs\u001b[39m=\u001b[39mnwbfile_kwargs,\n\u001b[1;32m    612\u001b[0m     )\n\u001b[1;32m    613\u001b[0m \u001b[39melse\u001b[39;00m:\n\u001b[0;32m--> 614\u001b[0m     nwbfile \u001b[39m=\u001b[39m pynwb\u001b[39m.\u001b[39mNWBFile(\u001b[39m*\u001b[39m\u001b[39m*\u001b[39mnwbfile_kwargs)\n\u001b[1;32m    616\u001b[0m ephys_root_data_dir \u001b[39m=\u001b[39m ephys\u001b[39m.\u001b[39mget_ephys_root_data_dir()\n\u001b[1;32m    618\u001b[0m \u001b[39mif\u001b[39;00m raw:\n",
      "\u001b[0;31mTypeError\u001b[0m: pynwb.file.NWBFile() argument after ** must be a mapping, not NoneType"
     ]
    }
   ],
   "source": [
    "print('Lab:\\n')\n",
    "print(element_lab_to_nwb_dict(lab_key=lab_key, protocol_key=protocol_key, \n",
    "                              project_key=project_key))\n",
    "print('\\nAnimal:\\n')\n",
    "print(subject_to_nwb(session_key=session_key))\n",
    "print('\\nSession:\\n')\n",
    "print(session_to_nwb(session_key=session_key))\n",
    "\n",
    "nwbfile = ecephys_session_to_nwb(session_key=session_key,\n",
    "                                 raw=True,\n",
    "                                 spikes=True,\n",
    "                                 lfp=\"dj\",\n",
    "                                 end_frame=100,\n",
    "                                 lab_key=lab_key,\n",
    "                                 project_key=project_key,\n",
    "                                 protocol_key=protocol_key,\n",
    "                                 nwbfile_kwargs=None)"
   ]
  },
  {
   "cell_type": "code",
   "execution_count": null,
   "id": "9f373aed",
   "metadata": {},
   "outputs": [],
   "source": []
  },
  {
   "cell_type": "code",
   "execution_count": 12,
   "id": "ee8d1583",
   "metadata": {},
   "outputs": [
    {
     "data": {
      "text/html": [
       "\n",
       "    \n",
       "    <style type=\"text/css\">\n",
       "        .Table{\n",
       "            border-collapse:collapse;\n",
       "        }\n",
       "        .Table th{\n",
       "            background: #A0A0A0; color: #ffffff; padding:4px; border:#f0e0e0 1px solid;\n",
       "            font-weight: normal; font-family: monospace; font-size: 100%;\n",
       "        }\n",
       "        .Table td{\n",
       "            padding:4px; border:#f0e0e0 1px solid; font-size:100%;\n",
       "        }\n",
       "        .Table tr:nth-child(odd){\n",
       "            background: #ffffff;\n",
       "            color: #000000;\n",
       "        }\n",
       "        .Table tr:nth-child(even){\n",
       "            background: #f3f1ff;\n",
       "            color: #000000;\n",
       "        }\n",
       "        /* Tooltip container */\n",
       "        .djtooltip {\n",
       "        }\n",
       "        /* Tooltip text */\n",
       "        .djtooltip .djtooltiptext {\n",
       "            visibility: hidden;\n",
       "            width: 120px;\n",
       "            background-color: black;\n",
       "            color: #fff;\n",
       "            text-align: center;\n",
       "            padding: 5px 0;\n",
       "            border-radius: 6px;\n",
       "            /* Position the tooltip text - see examples below! */\n",
       "            position: absolute;\n",
       "            z-index: 1;\n",
       "        }\n",
       "        #primary {\n",
       "            font-weight: bold;\n",
       "            color: black;\n",
       "        }\n",
       "        #nonprimary {\n",
       "            font-weight: normal;\n",
       "            color: white;\n",
       "        }\n",
       "\n",
       "        /* Show the tooltip text when you mouse over the tooltip container */\n",
       "        .djtooltip:hover .djtooltiptext {\n",
       "            visibility: visible;\n",
       "        }\n",
       "    </style>\n",
       "    \n",
       "    \n",
       "        <div style=\"max-height:1000px;max-width:1500px;overflow:auto;\">\n",
       "        <table border=\"1\" class=\"Table\">\n",
       "            <thead> <tr style=\"text-align: right;\"> <th> <div class=\"djtooltip\">\n",
       "                            <p id=\"primary\">lab</p>\n",
       "                            <span class=\"djtooltiptext\">Abbreviated lab name</span>\n",
       "                        </div></th><th><div class=\"djtooltip\">\n",
       "                            <p id=\"primary\">organization</p>\n",
       "                            <span class=\"djtooltiptext\">Abbreviated organization name</span>\n",
       "                        </div></th><th><div class=\"djtooltip\">\n",
       "                            <p id=\"nonprimary\">lab_name</p>\n",
       "                            <span class=\"djtooltiptext\">Full lab name</span>\n",
       "                        </div></th><th><div class=\"djtooltip\">\n",
       "                            <p id=\"nonprimary\">address</p>\n",
       "                            <span class=\"djtooltiptext\">Physical lab address</span>\n",
       "                        </div></th><th><div class=\"djtooltip\">\n",
       "                            <p id=\"nonprimary\">time_zone</p>\n",
       "                            <span class=\"djtooltiptext\">'UTC±X' format or timezone, e.g., America/New_York</span>\n",
       "                        </div></th><th><div class=\"djtooltip\">\n",
       "                            <p id=\"nonprimary\">org_name</p>\n",
       "                            <span class=\"djtooltiptext\">Full organization name</span>\n",
       "                        </div></th><th><div class=\"djtooltip\">\n",
       "                            <p id=\"nonprimary\">org_address</p>\n",
       "                            <span class=\"djtooltiptext\">Address of the organization</span>\n",
       "                        </div></th><th><div class=\"djtooltip\">\n",
       "                            <p id=\"nonprimary\">org_comment</p>\n",
       "                            <span class=\"djtooltiptext\">Additional notes on the organization</span>\n",
       "                        </div> </th> </tr> </thead>\n",
       "            <tbody> <tr>  </tr> </tbody>\n",
       "        </table>\n",
       "        \n",
       "        <p>Total: 0</p></div>\n",
       "        "
      ],
      "text/plain": [
       "*lab    *organization  lab_name     address     time_zone     org_name     org_address    org_comment   \n",
       "+-----+ +------------+ +----------+ +---------+ +-----------+ +----------+ +------------+ +------------+\n",
       "\n",
       " (Total: 0)"
      ]
     },
     "execution_count": 12,
     "metadata": {},
     "output_type": "execute_result"
    }
   ],
   "source": [
    "(lab.Lab * lab.Lab.Organization * lab.Organization & lab_key)"
   ]
  },
  {
   "cell_type": "code",
   "execution_count": null,
   "id": "f9c423ab",
   "metadata": {},
   "outputs": [],
   "source": [
    "username_as_prefix = dj.config[\"database.user\"] + \"_\"\n",
    "if not dj.config['custom']:\n",
    "    dj.config['custom'] = {}\n",
    "dj.config['custom'].update({\n",
    "        \"ephys_mode\": \"no-curation\",\n",
    "        \"database.prefix\": username_as_prefix,\n",
    "        })"
   ]
  },
  {
   "cell_type": "markdown",
   "id": "84b2c6ae-b8cd-47b8-af38-812f65032933",
   "metadata": {},
   "source": [
    "If you haven't already populated the `lab`, `subject`, `session`, `probe`, and `ephys` schemas, please do so now with [04-automate](./04-automate-optional.ipynb). Note: exporting `ephys` data is currently only supported on the `no_curation` schema. "
   ]
  },
  {
   "cell_type": "code",
   "execution_count": null,
   "id": "79cef246",
   "metadata": {},
   "outputs": [],
   "source": [
    "from workflow_array_ephys.pipeline import lab, subject, session, probe, ephys\n",
    "from workflow_array_ephys.export import (element_lab_to_nwb_dict, subject_to_nwb, \n",
    "                                         session_to_nwb, ecephys_session_to_nwb, \n",
    "                                         write_nwb)\n",
    "from element_interface.dandi import upload_to_dandi"
   ]
  },
  {
   "cell_type": "markdown",
   "id": "bafd4a7c",
   "metadata": {},
   "source": [
    "## Export to NWB\n",
    "\n",
    "We'll use the following keys to demonstrate export functions."
   ]
  },
  {
   "cell_type": "code",
   "execution_count": null,
   "id": "e6cebd98",
   "metadata": {},
   "outputs": [],
   "source": [
    "lab_key={\"lab\": \"LabA\"}\n",
    "protocol_key={\"protocol\": \"ProtA\"}\n",
    "project_key={\"project\": \"ProjA\"}\n",
    "session_key={\"subject\": \"subject5\",\n",
    "             \"session_datetime\": \"2018-07-03 20:32:28\"}"
   ]
  },
  {
   "cell_type": "markdown",
   "id": "fc2d028a",
   "metadata": {},
   "source": [
    "### Upstream Elements\n",
    "\n",
    "If you plan to use all upstream Elements, you can skip to the following section. To combine with other schemas, the following functions may be helpful.\n",
    "\n",
    "- **Element Lab** `element_lab_to_nwb_dict` exports NWB-relevant items to `dict` format.\n",
    "- **Element Animal** `subject_to_nwb` returns an NWB file with subject information.\n",
    "- **Element Session** `session_to_nwb` returns an NWB file with subject and session information.\n",
    "\n",
    "Note: `pynwb` will display a warning regarding timezone information - datetime fields are assumed to be in local time, and will be converted to UTC.\n"
   ]
  },
  {
   "cell_type": "code",
   "execution_count": null,
   "id": "f55d526a",
   "metadata": {},
   "outputs": [],
   "source": [
    "## If you don't already have data in the Element Lab\n",
    "lab.Lab.insert1(\n",
    "    {\n",
    "        **lab_key,\n",
    "        \"lab_name\": \"LabA\",\n",
    "        \"institution\": \"\",\n",
    "        \"address\": \"\",\n",
    "        \"time_zone\": \"UTC+0\",\n",
    "    },\n",
    "    skip_duplicates=True,\n",
    ")\n",
    "lab.ProtocolType.insert1({\"protocol_type\": \"A\"})\n",
    "lab.Protocol.insert1({**protocol_key, \"protocol_type\": \"A\"}, skip_duplicates=True)\n",
    "lab.Project.insert1(project_key, skip_duplicates=True)"
   ]
  },
  {
   "cell_type": "code",
   "execution_count": 9,
   "id": "e4c01468",
   "metadata": {},
   "outputs": [
    {
     "ename": "TypeError",
     "evalue": "pynwb.file.NWBFile() argument after ** must be a mapping, not NoneType",
     "output_type": "error",
     "traceback": [
      "\u001b[0;31m---------------------------------------------------------------------------\u001b[0m",
      "\u001b[0;31mTypeError\u001b[0m                                 Traceback (most recent call last)",
      "Cell \u001b[0;32mIn[9], line 1\u001b[0m\n\u001b[0;32m----> 1\u001b[0m nwbfile \u001b[39m=\u001b[39m ecephys_session_to_nwb(session_key\u001b[39m=\u001b[39;49msession_key,\n\u001b[1;32m      2\u001b[0m                                  raw\u001b[39m=\u001b[39;49m\u001b[39mTrue\u001b[39;49;00m,\n\u001b[1;32m      3\u001b[0m                                  spikes\u001b[39m=\u001b[39;49m\u001b[39mTrue\u001b[39;49;00m,\n\u001b[1;32m      4\u001b[0m                                  lfp\u001b[39m=\u001b[39;49m\u001b[39m\"\u001b[39;49m\u001b[39mdj\u001b[39;49m\u001b[39m\"\u001b[39;49m,\n\u001b[1;32m      5\u001b[0m                                  end_frame\u001b[39m=\u001b[39;49m\u001b[39m100\u001b[39;49m,\n\u001b[1;32m      6\u001b[0m                                  lab_key\u001b[39m=\u001b[39;49mlab_key,\n\u001b[1;32m      7\u001b[0m                                  project_key\u001b[39m=\u001b[39;49mproject_key,\n\u001b[1;32m      8\u001b[0m                                  protocol_key\u001b[39m=\u001b[39;49mprotocol_key)\n",
      "File \u001b[0;32m/workspaces/element-array-ephys/element_array_ephys/export/nwb/nwb.py:614\u001b[0m, in \u001b[0;36mecephys_session_to_nwb\u001b[0;34m(session_key, raw, spikes, lfp, end_frame, lab_key, project_key, protocol_key, nwbfile_kwargs)\u001b[0m\n\u001b[1;32m    606\u001b[0m     nwbfile \u001b[39m=\u001b[39m session_to_nwb(\n\u001b[1;32m    607\u001b[0m         session_key,\n\u001b[1;32m    608\u001b[0m         lab_key\u001b[39m=\u001b[39mlab_key,\n\u001b[0;32m   (...)\u001b[0m\n\u001b[1;32m    611\u001b[0m         additional_nwbfile_kwargs\u001b[39m=\u001b[39mnwbfile_kwargs,\n\u001b[1;32m    612\u001b[0m     )\n\u001b[1;32m    613\u001b[0m \u001b[39melse\u001b[39;00m:\n\u001b[0;32m--> 614\u001b[0m     nwbfile \u001b[39m=\u001b[39m pynwb\u001b[39m.\u001b[39mNWBFile(\u001b[39m*\u001b[39m\u001b[39m*\u001b[39mnwbfile_kwargs)\n\u001b[1;32m    616\u001b[0m ephys_root_data_dir \u001b[39m=\u001b[39m ephys\u001b[39m.\u001b[39mget_ephys_root_data_dir()\n\u001b[1;32m    618\u001b[0m \u001b[39mif\u001b[39;00m raw:\n",
      "\u001b[0;31mTypeError\u001b[0m: pynwb.file.NWBFile() argument after ** must be a mapping, not NoneType"
     ]
    }
   ],
   "source": [
    "from element_lab.export import \n",
    "print('Lab:\\n')\n",
    "print(element_lab_to_nwb_dict(lab_key=lab_key, protocol_key=protocol_key, \n",
    "                              project_key=project_key))\n",
    "print('\\nAnimal:\\n')\n",
    "print(subject_to_nwb(session_key=session_key))\n",
    "print('\\nSession:\\n')\n",
    "print(session_to_nwb(session_key=session_key))\n",
    "\n",
    "nwbfile = ecephys_session_to_nwb(session_key=session_key,\n",
    "                                 raw=True,\n",
    "                                 spikes=True,\n",
    "                                 lfp=\"dj\",\n",
    "                                 end_frame=100,\n",
    "                                 lab_key=lab_key,\n",
    "                                 project_key=project_key,\n",
    "                                 protocol_key=protocol_key,\n",
    "                                 nwbfile_kwargs=None)"
   ]
  },
  {
   "cell_type": "code",
   "execution_count": 8,
   "id": "dba53cb9",
   "metadata": {},
   "outputs": [
    {
     "data": {
      "text/plain": [
       "{'protocol': 'ProtA'}"
      ]
     },
     "execution_count": 8,
     "metadata": {},
     "output_type": "execute_result"
    }
   ],
   "source": [
    "protocol_key"
   ]
  },
  {
   "cell_type": "code",
   "execution_count": null,
   "id": "147c1648",
   "metadata": {},
   "outputs": [],
   "source": []
  },
  {
   "cell_type": "code",
   "execution_count": null,
   "id": "61ba0714",
   "metadata": {},
   "outputs": [],
   "source": [
    "print('Lab:\\n')\n",
    "print(element_lab_to_nwb_dict(lab_key=lab_key, protocol_key=protocol_key, \n",
    "                              project_key=project_key))\n",
    "print('\\nAnimal:\\n')\n",
    "print(subject_to_nwb(session_key=session_key))\n",
    "print('\\nSession:\\n')\n",
    "print(session_to_nwb(session_key=session_key))"
   ]
  },
  {
   "cell_type": "markdown",
   "id": "bb5fba81",
   "metadata": {},
   "source": [
    "### Element Array Electrophysiology\n",
    "\n",
    "`ecephys_session_to_nwb` provides a full export mechanism, returning an NWB file with raw data, spikes, and LFP. Optional arguments determine which pieces are exported. For demonstration purposes, we recommend limiting `end_frame`.\n"
   ]
  },
  {
   "cell_type": "code",
   "execution_count": null,
   "id": "7c2f913c",
   "metadata": {},
   "outputs": [],
   "source": [
    "help(ecephys_session_to_nwb)"
   ]
  },
  {
   "cell_type": "code",
   "execution_count": null,
   "id": "5edf9615",
   "metadata": {},
   "outputs": [],
   "source": [
    "nwbfile = ecephys_session_to_nwb(session_key=session_key,\n",
    "                                 raw=True,\n",
    "                                 spikes=True,\n",
    "                                 lfp=\"dj\",\n",
    "                                 end_frame=100,\n",
    "                                 lab_key=lab_key,\n",
    "                                 project_key=project_key,\n",
    "                                 protocol_key=protocol_key,\n",
    "                                 nwbfile_kwargs=None)"
   ]
  },
  {
   "cell_type": "code",
   "execution_count": null,
   "id": "1131e149",
   "metadata": {},
   "outputs": [],
   "source": [
    "nwbfile"
   ]
  },
  {
   "cell_type": "markdown",
   "id": "2d6393fc",
   "metadata": {},
   "source": [
    "`write_nwb` can then be used to write this file to disk. The following cell will include a timestamp in the filename."
   ]
  },
  {
   "cell_type": "code",
   "execution_count": null,
   "id": "eb3f1030",
   "metadata": {},
   "outputs": [],
   "source": [
    "import time\n",
    "my_path = \"./\"\n",
    "my_path = f\"/home/{dj.config['database.user']}/\" # for codebook users\n",
    "write_nwb(nwbfile, my_path+time.strftime(\"_test_%Y%m%d-%H%M%S.nwb\"))"
   ]
  },
  {
   "cell_type": "markdown",
   "id": "f717baf8",
   "metadata": {},
   "source": [
    "## DANDI Upload\n",
    "\n",
    "`element-interface.dandi` includes the `upload_to_dandi` utility to support direct uploads. For more information, see [DANDI documentation](https://www.dandiarchive.org/handbook/10_using_dandi/).\n",
    "\n",
    "In order to upload, you'll need...\n",
    "1. A DANDI account\n",
    "2. A `DANDI_API_KEY`\n",
    "3. A `dandiset_id`\n",
    "\n",
    "These values can be added to your `dj.config` as follows:"
   ]
  },
  {
   "cell_type": "code",
   "execution_count": null,
   "id": "3a75d1e4",
   "metadata": {},
   "outputs": [],
   "source": [
    "dj.config['custom']['dandiset_id']=\"<six digits as string>\" \n",
    "dj.config['custom']['dandi.api']=\"<40-character alphanumeric string>\""
   ]
  },
  {
   "cell_type": "markdown",
   "id": "26f65d15",
   "metadata": {},
   "source": [
    "This would facilitate routine updating of your dandiset."
   ]
  },
  {
   "cell_type": "code",
   "execution_count": null,
   "id": "84dbce9f-825e-49a4-b49f-58b406873430",
   "metadata": {},
   "outputs": [],
   "source": [
    "upload_to_dandi(\n",
    "    data_directory=\"./temp_nwb/\",\n",
    "    dandiset_id=dj.config['custom']['dandiset_id'],\n",
    "    staging=True,\n",
    "    working_directory=\"./temp_nwb/\",\n",
    "    api_key=dj.config['custom']['dandi.api'],\n",
    "    sync=False)"
   ]
  },
  {
   "cell_type": "code",
   "execution_count": null,
   "id": "c0dd56de-ecf3-469b-8aed-e2484402bcdc",
   "metadata": {},
   "outputs": [],
   "source": []
  }
 ],
 "metadata": {
  "jupytext": {
   "formats": "ipynb,py_scripts//py"
  },
  "kernelspec": {
   "display_name": "Python 3.9.13 ('ele')",
   "language": "python",
   "name": "python3"
  },
  "language_info": {
   "codemirror_mode": {
    "name": "ipython",
    "version": 3
   },
   "file_extension": ".py",
   "mimetype": "text/x-python",
   "name": "python",
   "nbconvert_exporter": "python",
   "pygments_lexer": "ipython3",
   "version": "3.9.17"
  },
  "vscode": {
   "interpreter": {
    "hash": "d00c4ad21a7027bf1726d6ae3a9a6ef39c8838928eca5a3d5f51f3eb68720410"
   }
  }
 },
 "nbformat": 4,
 "nbformat_minor": 5
}
